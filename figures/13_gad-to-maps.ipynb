{
 "cells": [
  {
   "cell_type": "code",
   "execution_count": null,
   "metadata": {},
   "outputs": [],
   "source": [
    "import os.path as op\n",
    "import pickle\n",
    "\n",
    "import nibabel as nib\n",
    "import numpy as np\n",
    "from nibabel import GiftiImage\n",
    "from nibabel.gifti import GiftiDataArray\n",
    "from surfplot.utils import add_fslr_medial_wall\n",
    "from surfplot.utils import add_fslr_medial_wall\n",
    "from surfplot import Plot\n",
    "from neuromaps.datasets import fetch_fslr\n",
    "from sklearn.metrics import pairwise_distances"
   ]
  },
  {
   "cell_type": "code",
   "execution_count": null,
   "metadata": {},
   "outputs": [],
   "source": [
    "gradients = np.load(\"../results/gradient/gradients.npy\")\n",
    "\n",
    "template_dir = \"../data/templates\"\n",
    "subcortical_fn = op.join(template_dir, \"rois-subcortical_mni152_mask.nii.gz\")\n",
    "subcort_img = nib.load(subcortical_fn)\n",
    "\n",
    "full_vertices = 64984\n",
    "hemi_vertices = full_vertices // 2\n",
    "\n",
    "subcort_dat = subcort_img.get_fdata()\n",
    "subcort_mask = subcort_dat != 0\n",
    "n_subcort_vox = np.where(subcort_mask)[0].shape[0]\n",
    "\n",
    "n_gradients = gradients.shape[1]\n",
    "grad_lst = []\n",
    "for i in range(n_gradients):\n",
    "    cort_grads = gradients[: gradients.shape[0] - n_subcort_vox, i]\n",
    "    grad_lst.append(cort_grads)\n",
    "\n",
    "grad_arr = np.array(grad_lst).T"
   ]
  },
  {
   "cell_type": "code",
   "execution_count": null,
   "metadata": {},
   "outputs": [],
   "source": [
    "surfaces = fetch_fslr()\n",
    "lh, rh = surfaces['inflated']\n",
    "sulc_lh, sulc_rh = surfaces['sulc']\n",
    "\n",
    "full_vertices = 64984\n",
    "hemi_vertices = full_vertices // 2"
   ]
  },
  {
   "cell_type": "code",
   "execution_count": null,
   "metadata": {},
   "outputs": [],
   "source": [
    "max_peak, min_peak = grad_arr[:,0].max(), grad_arr[:,0].min()\n",
    "\n",
    "sigma_0 = 1\n",
    "final_dict = {}\n",
    "for method in [\"PCT\", \"KMeans\", \"KDE\"]:\n",
    "    with open(f\"../results/segmentation/{method}_results.pkl\", \"rb\") as results_file:\n",
    "        seg_dict = pickle.load(results_file)\n",
    "    \n",
    "    segments = seg_dict[\"segments\"]\n",
    "    peaks = seg_dict[\"peaks\"]\n",
    "    grad_segments = []   \n",
    "    for segment, peak in zip(segments, peaks):\n",
    "\n",
    "        peak[0], peak[-1] = min_peak, max_peak\n",
    "        grad_maps = []\n",
    "        for grad_map, peak_act in zip(segment, peak):\n",
    "            peak_coord = np.array(peak_act)\n",
    "            indices = np.where(grad_map!=0)[0]\n",
    "            grad_val = grad_map[indices]\n",
    "            distances = pairwise_distances(\n",
    "                grad_val.reshape(-1, 1), \n",
    "                peak_coord.reshape(1, -1), \n",
    "                metric=\"euclidean\"\n",
    "            ).flatten()\n",
    "\n",
    "            mean_dist = np.mean(distances)\n",
    "            sigma = mean_dist * sigma_0\n",
    "            affinity =  np.exp(-distances**2 / (2 * sigma**2))\n",
    "\n",
    "            pseudo_act_map = np.zeros_like(grad_map, dtype=float)\n",
    "            pseudo_act_map[indices] = np.array(affinity)\n",
    "\n",
    "\n",
    "            grad_maps.append(pseudo_act_map)\n",
    "        grad_segments.append(grad_maps)\n",
    "    final_dict[method] = grad_segments\n",
    "\n",
    "with open(\"/Users/jperaza/Documents/GitHub/gradient-decoding/results/segmentation/segments.pkl\", \"wb\") as segmentation_file:\n",
    "    pickle.dump(final_dict, segmentation_file)\n"
   ]
  },
  {
   "cell_type": "code",
   "execution_count": null,
   "metadata": {},
   "outputs": [],
   "source": [
    "final_dict"
   ]
  },
  {
   "cell_type": "code",
   "execution_count": null,
   "metadata": {},
   "outputs": [],
   "source": [
    "with open(\"/Users/jperaza/Documents/GitHub/gradient-decoding/results/segmentation/segments.pkl\", \"wb\") as segmentation_file:\n",
    "    pickle.dump(final_dict, segmentation_file)"
   ]
  },
  {
   "cell_type": "code",
   "execution_count": null,
   "metadata": {},
   "outputs": [],
   "source": []
  }
 ],
 "metadata": {
  "kernelspec": {
   "display_name": "gradec_env",
   "language": "python",
   "name": "python3"
  },
  "language_info": {
   "codemirror_mode": {
    "name": "ipython",
    "version": 3
   },
   "file_extension": ".py",
   "mimetype": "text/x-python",
   "name": "python",
   "nbconvert_exporter": "python",
   "pygments_lexer": "ipython3",
   "version": "3.9.16"
  }
 },
 "nbformat": 4,
 "nbformat_minor": 2
}
