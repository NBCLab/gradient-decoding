{
 "cells": [
  {
   "cell_type": "code",
   "execution_count": null,
   "metadata": {},
   "outputs": [],
   "source": [
    "import sys\n",
    "import os.path as op\n",
    "\n",
    "import numpy as np\n",
    "import nibabel as nib\n",
    "from nilearn import plotting\n",
    "\n",
    "sys.path.append(op.abspath(\"../\"))\n",
    "import utils"
   ]
  },
  {
   "cell_type": "code",
   "execution_count": null,
   "metadata": {},
   "outputs": [],
   "source": [
    "data_dir = op.abspath(op.join(\"..\", \"data\"))\n",
    "template_dir = op.join(data_dir, \"templates\")"
   ]
  },
  {
   "cell_type": "code",
   "execution_count": null,
   "metadata": {},
   "outputs": [],
   "source": [
    "subcortical_fn = op.join(template_dir, \"rois-subcortical_mni152_mask.nii.gz\")\n",
    "subcort_img = nib.load(subcortical_fn)\n",
    "subcort_dat = subcort_img.get_fdata()\n",
    "subcort_mask = subcort_dat != 0\n",
    "n_subcort_vox = np.where(subcort_mask)[0].shape[0]"
   ]
  },
  {
   "cell_type": "code",
   "execution_count": null,
   "metadata": {},
   "outputs": [],
   "source": [
    "dcon_img = nib.load(\n",
    "            op.join(\n",
    "                data_dir, \"hcp\", \"HCP_S1200_1003_rfMRI_MSMAll_groupPCA_d4500ROW_zcorr.dconn.nii\"\n",
    "            )\n",
    "        )\n",
    "dcon_mtx = np.tanh(dcon_img.get_fdata())  # 91,282 X 91,282 grayordinates\n",
    "\n",
    "del dcon_img"
   ]
  },
  {
   "cell_type": "code",
   "execution_count": null,
   "metadata": {},
   "outputs": [],
   "source": [
    "cort_mtx = dcon_mtx[: dcon_mtx.shape[0] - n_subcort_vox, : dcon_mtx.shape[0] - n_subcort_vox] # 59,412 X 59,412 vertex\n",
    "del dcon_mtx"
   ]
  },
  {
   "cell_type": "code",
   "execution_count": null,
   "metadata": {},
   "outputs": [],
   "source": [
    "plotting.plot_matrix(cort_mtx, colorbar=True, vmax=1, vmin=-1, cmap=\"spectral\")"
   ]
  },
  {
   "cell_type": "code",
   "execution_count": null,
   "metadata": {},
   "outputs": [],
   "source": [
    "# Calculate affinity matrix\n",
    "affin_mtx = utils.affinity(dcon_mtx, 90)"
   ]
  }
 ],
 "metadata": {
  "kernelspec": {
   "display_name": "Python 3.9.12 ('gradec_env')",
   "language": "python",
   "name": "python3"
  },
  "language_info": {
   "codemirror_mode": {
    "name": "ipython",
    "version": 3
   },
   "file_extension": ".py",
   "mimetype": "text/x-python",
   "name": "python",
   "nbconvert_exporter": "python",
   "pygments_lexer": "ipython3",
   "version": "3.9.16"
  },
  "orig_nbformat": 4,
  "vscode": {
   "interpreter": {
    "hash": "32eae8b81dca7564140c4bb02978cc1f5cb3ca50d75c604cb4f67ffb4db99fb5"
   }
  }
 },
 "nbformat": 4,
 "nbformat_minor": 2
}
