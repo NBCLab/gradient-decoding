{
 "cells": [
  {
   "cell_type": "code",
   "execution_count": null,
   "metadata": {},
   "outputs": [],
   "source": [
    "import os.path as op\n",
    "import itertools\n",
    "\n",
    "import pandas as pd\n",
    "import seaborn as sns\n",
    "import numpy as np\n",
    "import matplotlib.pyplot as plt"
   ]
  },
  {
   "cell_type": "code",
   "execution_count": null,
   "metadata": {},
   "outputs": [],
   "source": [
    "result_dir = op.abspath(\"../results\")\n",
    "data_dir = op.abspath(\"../data\")\n",
    "figure_dir = op.abspath(\"./Fig\")"
   ]
  },
  {
   "cell_type": "code",
   "execution_count": null,
   "metadata": {},
   "outputs": [],
   "source": [
    "sns.set(style=\"white\")\n",
    "\n",
    "cotegories = np.array([\"Functional\", \"Clinical\", \"Anatomical\", \"Non-Specific\"])\n",
    "\n",
    "colors = plt.get_cmap(\"Set1\")\n",
    "\n",
    "dset_names = [\"neurosynth\", \"neuroquery\"]\n",
    "models = [\"term\", \"lda\", \"gclda\"]\n",
    "\n",
    "method_lst = []\n",
    "class_lst = []\n",
    "for model, dset_name in itertools.product(models, dset_names):\n",
    "    print(model, dset_name)\n",
    "    data_df = pd.read_csv(op.join(data_dir, \"classification\", f\"{model}_{dset_name}_classification.csv\"))\n",
    "    \n",
    "    data = []\n",
    "    for cotegory in cotegories:\n",
    "        n_elements = data_df[data_df[\"Classification\"] == cotegory].shape[0]\n",
    "        data.append(n_elements)\n",
    "        class_lst.append([cotegory] * n_elements)\n",
    "        method_lst.append([f\"{model}_{dset_name}\"] * n_elements )\n",
    "        \n",
    "    explode = [0] * len(cotegories)\n",
    "    explode[0] = 0.1\n",
    "\n",
    "    palette_color = sns.color_palette('muted')\n",
    "\n",
    "    # colors.colors[:len(keys)]\n",
    "    plt.pie(data, labels=cotegories, colors=palette_color,\n",
    "        explode=explode, autopct='%.0f%%')\n",
    "    plt.show()\n",
    "    \n",
    "new_data_df = pd.DataFrame()\n",
    "new_data_df[\"method\"] = np.hstack(method_lst)\n",
    "new_data_df[\"classification\"] = np.hstack(class_lst)\n",
    "new_data_df\n"
   ]
  },
  {
   "cell_type": "code",
   "execution_count": null,
   "metadata": {},
   "outputs": [],
   "source": [
    "cross_data_prop_df = pd.crosstab(index=new_data_df[\"method\"],\n",
    "                             columns=new_data_df[\"classification\"],\n",
    "                             normalize=\"index\")\n",
    "cross_data_prop_df = cross_data_prop_df[cotegories]\n",
    "cross_data_prop_df = cross_data_prop_df.sort_index(ascending=False)\n",
    "cross_data_prop_df"
   ]
  },
  {
   "cell_type": "code",
   "execution_count": null,
   "metadata": {},
   "outputs": [],
   "source": [
    "cross_data_df = pd.crosstab(index=new_data_df[\"method\"],\n",
    "                             columns=new_data_df[\"classification\"])\n",
    "cross_data_df = cross_data_df[cotegories]\n",
    "cross_data_df = cross_data_df.sort_index(ascending=False)\n",
    "cross_data_df"
   ]
  },
  {
   "cell_type": "code",
   "execution_count": null,
   "metadata": {},
   "outputs": [],
   "source": [
    "fontsize = 11\n",
    "my_cmap = plt.get_cmap(\"tab20c\")\n",
    "idxes = [1, 5, 9, 17]\n",
    "# colors = [my_cmap.colors[idx] for idx in idxes]\n",
    "\n",
    "colors = [\"#393E46\", '#6D9886', '#F2E7D5', '#F7F7F7']\n",
    "\n",
    "fig, ax = plt.subplots(1, 1)\n",
    "fig.set_size_inches(3.5, 3.5)\n",
    "\n",
    "cross_data_prop_df.plot(\n",
    "    kind='bar', \n",
    "    stacked=True, \n",
    "    color=colors,\n",
    "    edgecolor='white', \n",
    "    linewidth=2,\n",
    "    width=0.9,\n",
    "    ax=ax,\n",
    ")\n",
    "\n",
    "ax.set_xticklabels([\"Term-NS\", \"Term-NQ\", \"LDA-NS\", \"LDA-NQ\", \"GCLDA-NS\", \"GCLDA-NQ\"], fontsize=fontsize)\n",
    "\n",
    "ax.legend(\n",
    "    loc=\"upper center\",\n",
    "    bbox_to_anchor=(0.5, 1.18),\n",
    "    ncol=4,\n",
    "    fontsize=fontsize,\n",
    ")\n",
    "plt.xticks(fontsize=fontsize)\n",
    "plt.yticks(fontsize=fontsize)\n",
    "ax.set_xlabel(\"Decoding Strategy\", fontsize=fontsize+2)\n",
    "ax.set_ylabel(\"Proportion\", fontsize=fontsize+2)\n",
    "\n",
    "\"\"\"\n",
    "for n, x in enumerate([*cross_data_df.index.values]):\n",
    "    for (proportion, count, y_loc) in zip(cross_data_prop_df.loc[x],\n",
    "                                          cross_data_df.loc[x],\n",
    "                                          cross_data_prop_df.loc[x].cumsum()):\n",
    "                \n",
    "        plt.text(\n",
    "            x=n - 0.17,\n",
    "            y=(y_loc - proportion) + (proportion / 2),\n",
    "            s=f'{count}', \n",
    "            color=\"black\",\n",
    "            fontsize=12,\n",
    "            fontweight=\"bold\"\n",
    "        )\n",
    "        plt.text(\n",
    "            x=n - 0.2,\n",
    "            y=(y_loc - proportion) + (proportion / 2) - 0.04,\n",
    "            s=f'({int(np.round(proportion * 100))}%)', \n",
    "            color=\"black\",\n",
    "            fontsize=12,\n",
    "            fontweight=\"bold\"\n",
    "        )\n",
    "\"\"\"\n",
    "plt.savefig(op.join(\"./Fig\", \"classification\", \"class_prop_barh.eps\"), bbox_inches=\"tight\")\n",
    "plt.savefig(op.join(\"./Fig\", \"Fig-09.eps\"), bbox_inches=\"tight\")\n",
    "plt.show()"
   ]
  },
  {
   "cell_type": "code",
   "execution_count": null,
   "metadata": {},
   "outputs": [],
   "source": []
  }
 ],
 "metadata": {
  "kernelspec": {
   "display_name": "gradec_env",
   "language": "python",
   "name": "python3"
  },
  "language_info": {
   "codemirror_mode": {
    "name": "ipython",
    "version": 3
   },
   "file_extension": ".py",
   "mimetype": "text/x-python",
   "name": "python",
   "nbconvert_exporter": "python",
   "pygments_lexer": "ipython3",
   "version": "3.9.16"
  },
  "orig_nbformat": 4,
  "vscode": {
   "interpreter": {
    "hash": "32eae8b81dca7564140c4bb02978cc1f5cb3ca50d75c604cb4f67ffb4db99fb5"
   }
  }
 },
 "nbformat": 4,
 "nbformat_minor": 2
}
