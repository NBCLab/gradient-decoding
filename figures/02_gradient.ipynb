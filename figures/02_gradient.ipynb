{
 "cells": [
  {
   "cell_type": "code",
   "execution_count": null,
   "metadata": {},
   "outputs": [],
   "source": [
    "\"\"\"Example for plotting gradient data\"\"\"\n",
    "import os.path as op\n",
    "from glob import glob\n",
    "import itertools\n",
    "\n",
    "from sklearn.cluster import KMeans\n",
    "from sklearn.metrics import silhouette_samples, silhouette_score\n",
    "import matplotlib.pyplot as plt\n",
    "\n",
    "from utils import plot_gradient, plot_subcortical_gradient"
   ]
  },
  {
   "cell_type": "code",
   "execution_count": null,
   "metadata": {},
   "outputs": [],
   "source": [
    "import numpy as np\n",
    "import nibabel as nib\n",
    "import pandas as pd\n",
    "import seaborn as sns"
   ]
  },
  {
   "cell_type": "code",
   "execution_count": null,
   "metadata": {},
   "outputs": [],
   "source": [
    "import matplotlib.pyplot as plt\n",
    "import matplotlib.gridspec as gridspec\n",
    "import seaborn as sns\n",
    "import numpy as np\n",
    "\n",
    "class SeabornFig2Grid():\n",
    "\n",
    "    def __init__(self, seaborngrid, fig,  subplot_spec):\n",
    "        self.fig = fig\n",
    "        self.sg = seaborngrid\n",
    "        self.subplot = subplot_spec\n",
    "        if isinstance(self.sg, sns.axisgrid.FacetGrid) or \\\n",
    "            isinstance(self.sg, sns.axisgrid.PairGrid):\n",
    "            self._movegrid()\n",
    "        elif isinstance(self.sg, sns.axisgrid.JointGrid):\n",
    "            self._movejointgrid()\n",
    "        self._finalize()\n",
    "\n",
    "    def _movegrid(self):\n",
    "        \"\"\" Move PairGrid or Facetgrid \"\"\"\n",
    "        self._resize()\n",
    "        n = self.sg.axes.shape[0]\n",
    "        m = self.sg.axes.shape[1]\n",
    "        self.subgrid = gridspec.GridSpecFromSubplotSpec(n,m, subplot_spec=self.subplot)\n",
    "        for i in range(n):\n",
    "            for j in range(m):\n",
    "                self._moveaxes(self.sg.axes[i,j], self.subgrid[i,j])\n",
    "\n",
    "    def _movejointgrid(self):\n",
    "        \"\"\" Move Jointgrid \"\"\"\n",
    "        h= self.sg.ax_joint.get_position().height\n",
    "        h2= self.sg.ax_marg_x.get_position().height\n",
    "        r = int(np.round(h/h2))\n",
    "        self._resize()\n",
    "        self.subgrid = gridspec.GridSpecFromSubplotSpec(r+1,r+1, subplot_spec=self.subplot)\n",
    "\n",
    "        self._moveaxes(self.sg.ax_joint, self.subgrid[1:, :-1])\n",
    "        self._moveaxes(self.sg.ax_marg_x, self.subgrid[0, :-1])\n",
    "        self._moveaxes(self.sg.ax_marg_y, self.subgrid[1:, -1])\n",
    "\n",
    "    def _moveaxes(self, ax, gs):\n",
    "        #https://stackoverflow.com/a/46906599/4124317\n",
    "        ax.remove()\n",
    "        ax.figure=self.fig\n",
    "        self.fig.axes.append(ax)\n",
    "        self.fig.add_axes(ax)\n",
    "        ax._subplotspec = gs\n",
    "        ax.set_position(gs.get_position(self.fig))\n",
    "        ax.set_subplotspec(gs)\n",
    "\n",
    "    def _finalize(self):\n",
    "        plt.close(self.sg.fig)\n",
    "        self.fig.canvas.mpl_connect(\"resize_event\", self._resize)\n",
    "        self.fig.canvas.draw()\n",
    "\n",
    "    def _resize(self, evt=None):\n",
    "        self.sg.fig.set_size_inches(self.fig.get_size_inches())"
   ]
  },
  {
   "attachments": {},
   "cell_type": "markdown",
   "metadata": {},
   "source": [
    "# Visualize Gradients"
   ]
  },
  {
   "attachments": {},
   "cell_type": "markdown",
   "metadata": {},
   "source": [
    "## Margulies 2016 (HCP S900)"
   ]
  },
  {
   "cell_type": "code",
   "execution_count": null,
   "metadata": {},
   "outputs": [],
   "source": [
    "\n",
    "from neuromaps.datasets import fetch_annotation\n",
    "\n",
    "data_dir = \"../data\"\n",
    "neuromaps_dir = op.join(data_dir, \"neuromaps-data\")\n",
    "\n",
    "marg_grad_out_path = \"../figures/Fig/gradient\"\n",
    "grad_marg_lh, grad_marg_rh = fetch_annotation(\n",
    "    source=\"margulies2016\",\n",
    "    desc=\"fcgradient01\",\n",
    "    space=\"fsLR\",\n",
    "    den=\"32k\",\n",
    "    data_dir=neuromaps_dir,\n",
    ")\n",
    "\n",
    "plot_gradient(data_dir, [(grad_marg_lh, grad_marg_rh)], cbar=True, out_dir=marg_grad_out_path)"
   ]
  },
  {
   "attachments": {},
   "cell_type": "markdown",
   "metadata": {},
   "source": [
    "## Peraza 2022 (HCP S1200)"
   ]
  },
  {
   "cell_type": "code",
   "execution_count": null,
   "metadata": {},
   "outputs": [],
   "source": [
    "jperaza_grad_path = op.abspath(\"../results/gradient/GIFTI-NIfTI_files\")\n",
    "jperaza_grad_out_path = \"../figures/Fig/gradient\"\n",
    "jperaza_grad_lh_fnames = sorted(glob(op.join(jperaza_grad_path, \"*hemi-L_feature.func.gii\")))\n",
    "jperaza_grad_rh_fnames = sorted(glob(op.join(jperaza_grad_path, \"*hemi-R_feature.func.gii\")))\n",
    "jperaza_subcort_grad_fnames = sorted(glob(op.join(jperaza_grad_path, \"*_feature.nii.gz\")))\n",
    "jperaza_grad_fnames = zip(jperaza_grad_lh_fnames, jperaza_grad_rh_fnames)\n",
    "\n",
    "plot_gradient(\"../data\", jperaza_grad_fnames, cbar=False, layout='column', out_dir=jperaza_grad_out_path)\n",
    "# plot_subcortical_gradient(jperaza_subcort_grad_fnames, threshold_=0.01)"
   ]
  },
  {
   "cell_type": "code",
   "execution_count": null,
   "metadata": {},
   "outputs": [],
   "source": [
    "lambdas = np.load(\"../results/gradient/lambdas.npy\")\n",
    "lambdas = lambdas[:9]"
   ]
  },
  {
   "cell_type": "code",
   "execution_count": null,
   "metadata": {},
   "outputs": [],
   "source": [
    "import matplotlib.pyplot as plt\n",
    "import seaborn as sns\n",
    "\n",
    "sns.set_style(\"ticks\",{'axes.grid' : True})\n",
    "# sns.set(style=\"white\")\n",
    "\n",
    "_, (ax1, ax2) = plt.subplots(nrows=2, ncols=1, figsize=(3.5, 6))\n",
    "#ax1.set_xlabel(\"Component Nb\")\n",
    "\n",
    "\n",
    "ax1.set_ylabel(\"Explained Variance Ratio\")\n",
    "ax2.set_ylabel(\"Difference in Explained\\nVariance Ratio\")\n",
    "x1 = range(1, lambdas.size + 1, 1)\n",
    "x2 = range(1, lambdas.size, 1)\n",
    "y1 = (100 * lambdas) / lambdas.sum()\n",
    "y2 = 100 * (lambdas[:-1] - lambdas[1:]) / lambdas.sum()\n",
    "\n",
    "sns.lineplot(\n",
    "    x=x1,\n",
    "    y=y1,\n",
    "    marker=\"o\",\n",
    "    color=\"#1D5B79\",\n",
    "    ax=ax1,\n",
    ")\n",
    "sns.lineplot(\n",
    "    x=x2,\n",
    "    y=y2,\n",
    "    marker=\"o\",\n",
    "    color=\"#1D5B79\",\n",
    "    ax=ax2,\n",
    ")\n",
    "ax1.set_xticks(x1)\n",
    "ax1.set_xticklabels(x1)\n",
    "ax1.set_xlabel(\"Component\")\n",
    "\n",
    "x2_lbs = [f\"{x}-{x+1}\" for x in x2]\n",
    "ax2.set_xticks(x2)\n",
    "ax2.set_xticklabels(x2_lbs) \n",
    "ax2.set_xlabel(\"Component Difference ($C_{i} - C_{i+1}$)\")\n",
    "\n",
    "plt.tight_layout()\n",
    "plt.savefig(op.join(\"./\", \"Fig\", \"Fig-S3.png\"), bbox_inches=\"tight\", dpi=1000)\n",
    "plt.show()\n"
   ]
  },
  {
   "cell_type": "code",
   "execution_count": null,
   "metadata": {},
   "outputs": [],
   "source": [
    "sum(y1[:4])"
   ]
  },
  {
   "cell_type": "code",
   "execution_count": null,
   "metadata": {},
   "outputs": [],
   "source": [
    "gradients = np.load(\"../results/gradient/gradients.npy\")"
   ]
  },
  {
   "cell_type": "code",
   "execution_count": null,
   "metadata": {},
   "outputs": [],
   "source": [
    "template_dir = \"../data/templates\"\n",
    "subcortical_fn = op.join(template_dir, \"rois-subcortical_mni152_mask.nii.gz\")\n",
    "subcort_img = nib.load(subcortical_fn)\n",
    "\n",
    "full_vertices = 64984\n",
    "hemi_vertices = full_vertices // 2\n",
    "\n",
    "subcort_dat = subcort_img.get_fdata()\n",
    "subcort_mask = subcort_dat != 0\n",
    "n_subcort_vox = np.where(subcort_mask)[0].shape[0]\n",
    "\n",
    "n_gradients = gradients.shape[1]\n",
    "grad_lst = []\n",
    "for i in range(n_gradients):\n",
    "    cort_grads = gradients[: gradients.shape[0] - n_subcort_vox, i]\n",
    "    grad_lst.append(cort_grads)"
   ]
  },
  {
   "cell_type": "code",
   "execution_count": null,
   "metadata": {},
   "outputs": [],
   "source": [
    "labels_00 = list(np.load(\"./temp_segmentation/KMeans_00-04_labels.npy\"))\n",
    "labels_01 = list(np.load(\"./temp_segmentation/KMeans_01-04_labels.npy\"))\n",
    "labels_02 = list(np.load(\"./temp_segmentation/KMeans_02-04_labels.npy\"))\n",
    "labels_03 = list(np.load(\"./temp_segmentation/KMeans_03-04_labels.npy\"))\n",
    "labels_04 = list(np.load(\"./temp_segmentation/KMeans_04-04_labels.npy\"))\n",
    "labels_05 = list(np.load(\"./temp_segmentation/KMeans_05-04_labels.npy\"))\n",
    "labels_06 = list(np.load(\"./temp_segmentation/KMeans_06-04_labels.npy\"))\n",
    "labels_07 = list(np.load(\"./temp_segmentation/KMeans_07-04_labels.npy\"))"
   ]
  },
  {
   "cell_type": "code",
   "execution_count": null,
   "metadata": {},
   "outputs": [],
   "source": [
    "grad_df = pd.DataFrame(np.array(grad_lst).T, columns=[f\"Gradient {i+1}\" for i in range(n_gradients)])\n",
    "grad_df[\"label_00\"] = labels_00\n",
    "grad_df[\"label_01\"] = labels_01\n",
    "grad_df[\"label_02\"] = labels_02\n",
    "grad_df[\"label_03\"] = labels_03\n",
    "grad_df[\"label_04\"] = labels_04\n",
    "grad_df[\"label_05\"] = labels_05\n",
    "grad_df[\"label_06\"] = labels_06\n",
    "grad_df[\"label_07\"] = labels_07\n",
    "grad_df"
   ]
  },
  {
   "cell_type": "code",
   "execution_count": null,
   "metadata": {},
   "outputs": [],
   "source": [
    "sns.set(style=\"whitegrid\", font_scale=2)\n",
    "pal = [\"#0174BE\", \"#008170\", \"#D0D4CA\", \"#B31312\"] #  \"#ED7D31\"\n",
    "n_rows, n_columns = 4, 4\n",
    "vars = [f\"Gradient {i+1}\" for i in range(9)]\n",
    "\n",
    "for row, column in itertools.product(range(n_rows), range(n_columns)):\n",
    "    if row < column:\n",
    "        x, y = vars[column], vars[row]\n",
    "        figure = plt.figure(figsize=(2, 2))\n",
    "        # figure, ax = plt.subplots(figsize=(3, 3))\n",
    "\n",
    "        g = sns.jointplot(\n",
    "            data=grad_df, \n",
    "            x=x, \n",
    "            y=y, \n",
    "            hue=\"label\", \n",
    "            palette=pal, \n",
    "            alpha=1, \n",
    "            s=3,\n",
    "            legend=False,\n",
    "        )\n",
    "        g.ax_joint.collections[0].set_edgecolor('none')\n",
    "        g.ax_joint.collections[0].set_linewidth(0)\n",
    "   \n",
    "        if row == 0:\n",
    "            g.ax_marg_y.set_ylim(-5, 7)\n",
    "        if row == 1:\n",
    "            g.ax_marg_y.set_ylim(-3, 3)\n",
    "        if row == 2:\n",
    "            g.ax_marg_y.set_ylim(-2, 4)\n",
    "        if row == 3:\n",
    "            g.ax_marg_y.set_ylim(-2, 2)\n",
    "        if column == 1:\n",
    "            g.ax_marg_x.set_xlim(-3, 3)\n",
    "        if column == 2:\n",
    "            g.ax_marg_x.set_xlim(-2, 4)\n",
    "        if column == 3:\n",
    "            g.ax_marg_x.set_xlim(-2, 2)\n",
    "\n",
    "\n",
    "        plt.savefig(f\"./temp_fig/{row}-{column}_mutidimensional.png\", dpi=100)\n",
    "        plt.show()"
   ]
  },
  {
   "cell_type": "code",
   "execution_count": null,
   "metadata": {},
   "outputs": [],
   "source": [
    "pal = [\"#0174BE\", \"#008170\", \"#D0D4CA\", \"#B31312\"]\n",
    "for comp in [0, 1, 2, 3, 4, 5, 6, 7]:\n",
    "    figure = plt.figure(figsize=(2, 2))\n",
    "    g = sns.scatterplot(\n",
    "        data=grad_df, \n",
    "        x=\"Gradient 3\", \n",
    "        y=\"Gradient 1\", \n",
    "        hue=f\"label_{comp:02d}\", \n",
    "        palette=pal, \n",
    "        alpha=1, \n",
    "        s=3,\n",
    "        edgecolors=None,\n",
    "        linewidth=0,\n",
    "        legend=False,\n",
    "    )\n",
    "    g.set_axis_off()\n",
    "    plt.savefig(f\"./temp_fig/2D-gradient_G1:G{comp+1}.png\", bbox_inches=\"tight\", dpi=1000)"
   ]
  },
  {
   "cell_type": "code",
   "execution_count": null,
   "metadata": {},
   "outputs": [],
   "source": [
    "from sklearn import metrics\n",
    "# comps = [0, 1, 2, 3, 4, 5, 6, 7]\n",
    "rows = []\n",
    "for i in range(8):\n",
    "    columns = []\n",
    "    for j in range(8):\n",
    "        labels_pred = grad_df[f\"label_{i:02d}\"].to_list()\n",
    "        labels_true = grad_df[f\"label_{j:02d}\"].to_list()\n",
    "        nmi = metrics.normalized_mutual_info_score(labels_true, labels_pred)\n",
    "        columns.append(nmi)\n",
    "    rows.append(columns)\n",
    "corr = np.array(rows)"
   ]
  },
  {
   "cell_type": "code",
   "execution_count": null,
   "metadata": {},
   "outputs": [],
   "source": [
    "label_list = [\"G1\", \"G1:G2\", \"G1:G3\", \"G1:G4\", \"G1:G5\", \"G1:G6\", \"G1:G7\", \"G1:G8\"]"
   ]
  },
  {
   "cell_type": "code",
   "execution_count": null,
   "metadata": {},
   "outputs": [],
   "source": [
    "mask = np.zeros_like(corr)\n",
    "mask[np.triu_indices_from(mask)] = True\n",
    "with sns.axes_style(\"white\"):\n",
    "    f, ax = plt.subplots(figsize=(7, 5))\n",
    "    ax = sns.heatmap(corr, mask=mask, vmin=0, vmax=1, annot=True, square=True)\n",
    "\n",
    "    ax.set_xticklabels(label_list)\n",
    "    ax.set_yticklabels(label_list)\n",
    "    ax.set_yticklabels(ax.get_yticklabels(), rotation=0, fontsize=14)\n",
    "    ax.set_xticklabels(ax.get_xticklabels(), rotation=90, fontsize=14)\n",
    "plt.savefig(f\"./temp_fig/2D-gradient_NMI.png\", bbox_inches=\"tight\", dpi=1000)"
   ]
  },
  {
   "cell_type": "code",
   "execution_count": null,
   "metadata": {},
   "outputs": [],
   "source": [
    "import numpy as np\n",
    "\n",
    "from surfplot.utils import add_fslr_medial_wall\n",
    "from matplotlib.colors import ListedColormap\n",
    "from neuromaps.datasets import fetch_fslr\n",
    "from surfplot import Plot\n",
    "from brainspace.datasets import load_parcellation\n",
    "\n",
    "surfaces = fetch_fslr()\n",
    "lh, rh = surfaces['inflated']\n",
    "\n",
    "full_vertices = 64984\n",
    "hemi_vertices = full_vertices // 2\n",
    "prin_grad = add_fslr_medial_wall(np.array(labels))  # Add medial wall for plotting\n",
    "labels_lh, labels_rh = prin_grad[:hemi_vertices], prin_grad[hemi_vertices:full_vertices]\n",
    "\n",
    "pal = [\"#0174BE\", \"#008170\", \"#D0D4CA\", \"#B31312\"]\n",
    "for region in range(4):\n",
    "    # zero-out all regions except 71 and 72\n",
    "    map_lh = np.zeros_like(labels_lh)\n",
    "    map_lh[labels_lh==region] = 1\n",
    "    map_rh = np.zeros_like(labels_rh)\n",
    "    map_rh[labels_rh==region] = 1\n",
    "\n",
    "    cmap = ListedColormap(pal[region], 'regions', N=1)\n",
    "    p = Plot(rh, views='medial')\n",
    "    p.add_layer(map_rh, cmap=cmap, cbar=False)\n",
    "    p.add_layer(map_rh, cmap='Greys', as_outline=True, cbar=False)\n",
    "\n",
    "    fig = p.build()\n",
    "    plt.savefig(f\"./temp_fig/{region}-gradient.tiff\", bbox_inches=\"tight\", dpi=500)\n"
   ]
  },
  {
   "cell_type": "code",
   "execution_count": null,
   "metadata": {},
   "outputs": [],
   "source": [
    "\n",
    "n_rows, n_columns = 4, 4\n",
    "figure1 = plt.figure(figsize=(12, 12))\n",
    "gs = GridSpec(\n",
    "    3, \n",
    "    3, \n",
    "    figure=figure1, \n",
    ")\n",
    "\n",
    "for row in range(n_rows):\n",
    "    for column in reversed(range(n_columns)):\n",
    "        if row < column:\n",
    "            print(row, column, row*(n_columns-1) + column - 1)\n",
    "            # fig = plt.figure(figsize=(4, 4))\n",
    "            img1 = mpimg.imread(f\"./temp_fig/{row}-{column}_mutidimensional.png\")\n",
    "\n",
    "            ax = figure1.add_subplot(gs[row*(n_columns-1) + column - 1], aspect=\"equal\")\n",
    "            # gs.update(left=0.55, right=0.98, hspace=0.05)\n",
    "            ax.imshow(img1)\n",
    "            # if gradient_row == 3:\n",
    "            #    ax1.set_title('Gradient {}'.format(i))\n",
    "            ax.set_axis_off()\n",
    "\n",
    "plt.subplots_adjust(wspace=-0.25, hspace=-0.18)\n",
    "plt.savefig(f\"./temp_fig/mutidimensional.png\", bbox_inches=\"tight\", dpi=1000)\n",
    "plt.show()"
   ]
  },
  {
   "cell_type": "code",
   "execution_count": null,
   "metadata": {},
   "outputs": [],
   "source": []
  }
 ],
 "metadata": {
  "kernelspec": {
   "display_name": "Python 3.9.12 ('gradec_env')",
   "language": "python",
   "name": "python3"
  },
  "language_info": {
   "codemirror_mode": {
    "name": "ipython",
    "version": 3
   },
   "file_extension": ".py",
   "mimetype": "text/x-python",
   "name": "python",
   "nbconvert_exporter": "python",
   "pygments_lexer": "ipython3",
   "version": "3.9.16"
  },
  "orig_nbformat": 4,
  "vscode": {
   "interpreter": {
    "hash": "32eae8b81dca7564140c4bb02978cc1f5cb3ca50d75c604cb4f67ffb4db99fb5"
   }
  }
 },
 "nbformat": 4,
 "nbformat_minor": 2
}
