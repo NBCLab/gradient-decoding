{
 "cells": [
  {
   "cell_type": "code",
   "execution_count": 6,
   "metadata": {},
   "outputs": [],
   "source": [
    "import os.path as op\n",
    "from glob import glob\n",
    "\n",
    "from neuromaps.datasets import fetch_atlas, fetch_fslr\n",
    "from netneurotools import stats as nnstats\n",
    "from surfplot.utils import add_fslr_medial_wall\n",
    "import numpy as np\n",
    "import nibabel as nib"
   ]
  },
  {
   "cell_type": "code",
   "execution_count": 3,
   "metadata": {},
   "outputs": [],
   "source": [
    "data_dir = op.abspath(\"../data\")\n",
    "result_dir = op.abspath(\"../results\")\n",
    "neuromaps_dir = op.join(data_dir, \"neuromaps-data\")"
   ]
  },
  {
   "cell_type": "code",
   "execution_count": null,
   "metadata": {},
   "outputs": [],
   "source": [
    "from surfplot import Plot\n",
    "from surfplot.utils import threshold\n",
    "\n",
    "surfaces = fetch_fslr(density=\"32k\", data_dir=neuromaps_dir)\n",
    "lh, rh = surfaces[\"inflated\"]\n",
    "sulc_lh, sulc_rh = surfaces[\"sulc\"]\n",
    "\n",
    "def plot_surf_map(lh_grad, rh_grad, threshold_=None, cmap=None, color_range=None):\n",
    "    if threshold_ is not None:\n",
    "        lh_grad = threshold(lh_grad, threshold_)\n",
    "        rh_grad = threshold(rh_grad, threshold_)\n",
    "\n",
    "    p = Plot(surf_lh=lh, surf_rh=rh)\n",
    "    p.add_layer({\"left\": sulc_lh, \"right\": sulc_rh}, cmap=\"binary_r\", cbar=False)\n",
    "    p.add_layer({\"left\": lh_grad, \"right\": rh_grad}, cmap=cmap, color_range=color_range)\n",
    "\n",
    "    fig = p.build()"
   ]
  },
  {
   "cell_type": "code",
   "execution_count": 12,
   "metadata": {},
   "outputs": [],
   "source": [
    "\n",
    "atlas = fetch_atlas(\"fsLR\", \"32k\", data_dir=neuromaps_dir, verbose=0)\n",
    "\n",
    "sphere_lh, sphere_rh = atlas[\"sphere\"]\n",
    "coords_lh, _ = nib.load(sphere_lh).agg_data()\n",
    "coords_rh, _ = nib.load(sphere_rh).agg_data()\n",
    "\n",
    "medial_lh, medial_rh = atlas[\"medial\"]\n",
    "medial_arr_lh = nib.load(medial_lh).agg_data()\n",
    "medial_arr_rh = nib.load(medial_rh).agg_data()\n",
    "\n",
    "coords_lh = coords_lh[np.where(medial_arr_lh != 0)]\n",
    "coords_rh = coords_rh[np.where(medial_arr_rh != 0)]\n",
    "\n",
    "hemi = np.hstack((np.zeros((coords_lh.shape[0], )), np.ones((coords_rh.shape[0], ))))\n",
    "coords = np.vstack((coords_lh, coords_rh))"
   ]
  },
  {
   "cell_type": "code",
   "execution_count": 16,
   "metadata": {},
   "outputs": [],
   "source": [
    "permute = nnstats.gen_spinsamples(coords, hemi, n_rotate=1, seed=1, method='vasa', check_duplicates=False)"
   ]
  },
  {
   "cell_type": "code",
   "execution_count": 15,
   "metadata": {},
   "outputs": [
    {
     "data": {
      "text/plain": [
       "(59412,)"
      ]
     },
     "execution_count": 15,
     "metadata": {},
     "output_type": "execute_result"
    }
   ],
   "source": [
    "gclda_grad_path = op.join(result_dir, \"gradient_decoding\", \"gclda-fslr\")\n",
    "\n",
    "gclda_grad_lh_fnames = sorted(glob(op.join(gclda_grad_path, \"*hemi-L_feature.func.gii\")))[0]\n",
    "gclda_grad_rh_fnames = sorted(glob(op.join(gclda_grad_path, \"*hemi-R_feature.func.gii\")))[0]\n",
    "lh_grad = nib.load(gclda_grad_lh_fnames).agg_data()\n",
    "rh_grad = nib.load(gclda_grad_rh_fnames).agg_data()\n",
    "\n",
    "plot_surf_map(lh_grad, lh_grad)"
   ]
  },
  {
   "cell_type": "code",
   "execution_count": null,
   "metadata": {},
   "outputs": [],
   "source": [
    "lh_grad_permuted = lh_grad[np.where(medial_arr_lh != 0)]\n",
    "rh_grad = rh_grad[np.where(medial_arr_rh != 0)]\n",
    "grad_map = np.hstack((lh_grad, rh_grad))\n",
    "\n",
    "grad_map_permuted = grad_map[permute]\n",
    "\n",
    "lh_grad_permuted, rh_grad_permuted = add_fslr_medial_wall(grad_map_permuted, split=True)\n",
    "\n",
    "plot_surf_map(lh_grad_permuted, rh_grad_permuted)"
   ]
  },
  {
   "cell_type": "code",
   "execution_count": null,
   "metadata": {},
   "outputs": [],
   "source": []
  }
 ],
 "metadata": {
  "kernelspec": {
   "display_name": "Python 3.9.12 ('gradec_env')",
   "language": "python",
   "name": "python3"
  },
  "language_info": {
   "codemirror_mode": {
    "name": "ipython",
    "version": 3
   },
   "file_extension": ".py",
   "mimetype": "text/x-python",
   "name": "python",
   "nbconvert_exporter": "python",
   "pygments_lexer": "ipython3",
   "version": "3.9.12"
  },
  "orig_nbformat": 4,
  "vscode": {
   "interpreter": {
    "hash": "32eae8b81dca7564140c4bb02978cc1f5cb3ca50d75c604cb4f67ffb4db99fb5"
   }
  }
 },
 "nbformat": 4,
 "nbformat_minor": 2
}
