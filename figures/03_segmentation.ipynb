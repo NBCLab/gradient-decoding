{
 "cells": [
  {
   "cell_type": "code",
   "execution_count": null,
   "metadata": {},
   "outputs": [],
   "source": [
    "\"\"\"Example for plotting gradient data\"\"\"\n",
    "import os.path as op\n",
    "from glob import glob\n",
    "import pickle\n",
    "\n",
    "import matplotlib.image as mpimg\n",
    "from matplotlib.gridspec import GridSpec\n",
    "import matplotlib.pyplot as plt\n",
    "\n",
    "from utils import plot_gradient"
   ]
  },
  {
   "cell_type": "code",
   "execution_count": null,
   "metadata": {},
   "outputs": [],
   "source": [
    "data_dir = \"../data\"\n",
    "figures_dir = op.abspath(\"../figures\")"
   ]
  },
  {
   "attachments": {},
   "cell_type": "markdown",
   "metadata": {},
   "source": [
    "# Visualize segmentation"
   ]
  },
  {
   "attachments": {},
   "cell_type": "markdown",
   "metadata": {},
   "source": [
    "## Percentile"
   ]
  },
  {
   "cell_type": "code",
   "execution_count": null,
   "metadata": {},
   "outputs": [],
   "source": [
    "percent_grad_seg_path = \"../results/segmentation/pct\"\n",
    "percent_grad_out_path = \"../figures/Fig/segmentation/pct\"\n",
    "percent_grad_seg_lh_fnames = sorted(glob(op.join(percent_grad_seg_path, \"*Percentile*_desc-Bin*-L_feature.func.gii\")))\n",
    "percent_grad_seg_rh_fnames = sorted(glob(op.join(percent_grad_seg_path, \"*Percentile*_desc-Bin*-R_feature.func.gii\")))\n",
    "percent_grad_seg_fnames = zip(percent_grad_seg_lh_fnames, percent_grad_seg_rh_fnames)\n",
    "\n",
    "plot_gradient(data_dir, percent_grad_seg_fnames, title=False, out_dir=percent_grad_out_path)"
   ]
  },
  {
   "attachments": {},
   "cell_type": "markdown",
   "metadata": {},
   "source": [
    "## KMeans"
   ]
  },
  {
   "cell_type": "code",
   "execution_count": null,
   "metadata": {},
   "outputs": [],
   "source": [
    "kmeans_grad_seg_path = \"../results/segmentation/kmeans\"\n",
    "kmeans_grad_out_path = \"../figures/Fig/segmentation/kmeans\"\n",
    "kmeans_grad_seg_lh_fnames = sorted(glob(op.join(kmeans_grad_seg_path, \"*KMeans*_desc-Bin*-L_feature.func.gii\")))\n",
    "kmeans_grad_seg_rh_fnames = sorted(glob(op.join(kmeans_grad_seg_path, \"*KMeans*_desc-Bin*-R_feature.func.gii\")))\n",
    "kmeans_grad_seg_fnames = zip(kmeans_grad_seg_lh_fnames, kmeans_grad_seg_rh_fnames)\n",
    "\n",
    "plot_gradient(data_dir, kmeans_grad_seg_fnames, title=False, out_dir=kmeans_grad_out_path)"
   ]
  },
  {
   "attachments": {},
   "cell_type": "markdown",
   "metadata": {},
   "source": [
    "## KDE"
   ]
  },
  {
   "cell_type": "code",
   "execution_count": null,
   "metadata": {},
   "outputs": [],
   "source": [
    "kde_grad_seg_path = \"../results/segmentation/kde\"\n",
    "kde_grad_out_path = \"../figures/Fig/segmentation/kde\"\n",
    "kde_grad_seg_lh_fnames = sorted(glob(op.join(kde_grad_seg_path, \"*KDE*_desc-Bin*-L_feature.func.gii\")))\n",
    "kde_grad_seg_rh_fnames = sorted(glob(op.join(kde_grad_seg_path, \"*KDE*_desc-Bin*-L_feature.func.gii\")))\n",
    "kde_grad_seg_fnames = zip(kde_grad_seg_lh_fnames, kde_grad_seg_rh_fnames)\n",
    "\n",
    "plot_gradient(data_dir, kde_grad_seg_fnames, title=False, out_dir=kde_grad_out_path)"
   ]
  },
  {
   "cell_type": "code",
   "execution_count": null,
   "metadata": {},
   "outputs": [],
   "source": [
    "n_cols = 3\n",
    "n_rows = 5\n",
    "w = 7.5\n",
    "h = 9.5\n",
    "\n",
    "img_lbs = [\"PCT\", \"KMeans\", \"KDE\"]\n",
    "step = 0\n",
    "row = 0\n",
    "for segment_size in range(3, 33):\n",
    "    pct_files = sorted(glob(op.join(figures_dir, \"Fig\", \"segmentation\", \"pct\", f\"*{segment_size:02d}-*.tiff\")))\n",
    "    kms_files = sorted(glob(op.join(figures_dir, \"Fig\", \"segmentation\", \"kmeans\", f\"*{segment_size:02d}-*.tiff\")))\n",
    "    kde_files = sorted(glob(op.join(figures_dir, \"Fig\", \"segmentation\", \"kde\", f\"*{segment_size:02d}-*.tiff\")))\n",
    "    for segment_id, (pct_file, kms_file, kde_file) in enumerate(zip(pct_files, kms_files, kde_files), start=1):\n",
    "        add_title = False\n",
    "        if step % 5 == 0:\n",
    "            add_title = True\n",
    "        \n",
    "        step += 1\n",
    "        \n",
    "        if row == 0:\n",
    "            fig = plt.figure(figsize=(w, h))\n",
    "            fig.subplots_adjust(\n",
    "                left=None, bottom=None, right=None, top=None, wspace=0.9, hspace=None\n",
    "            )\n",
    "            gs = GridSpec(n_rows, n_cols, figure=fig)\n",
    "\n",
    "        for img_i, img_file in enumerate([pct_file, kms_file, kde_file]):\n",
    "            img = mpimg.imread(img_file)\n",
    "            ax = fig.add_subplot(gs[row, img_i], aspect=\"equal\")\n",
    "            ax.imshow(img)\n",
    "\n",
    "            if img_i == 0:\n",
    "                ax.set_xticks([])\n",
    "                ax.set_yticks([])\n",
    "                if add_title:\n",
    "                    ax.set_ylabel(f\"Segment\\nSolution\\n\\n\\n\\n{segment_size:02d}-{segment_id:02d}\", rotation=0, labelpad=35, fontsize=12)\n",
    "                else:\n",
    "                    ax.set_ylabel(f\"\\n{segment_size:02d}-{segment_id:02d}\", rotation=0, labelpad=35, fontsize=12)\n",
    "                plt.setp(ax.spines.values(), color=None)\n",
    "            else:\n",
    "                ax.set_axis_off()\n",
    "            \n",
    "            if add_title:\n",
    "                ax.set_title(img_lbs[img_i], fontsize=14)\n",
    "        \n",
    "        if row == 4:\n",
    "            row = 0\n",
    "            fig.tight_layout(pad=0.1, w_pad=0.6, h_pad=0.1)\n",
    "            # plt.subplots_adjust(top=0.95)\n",
    "            fig.savefig(op.join(figures_dir, \"Fig\", \"segmentation\", f\"{segment_size:02d}-{segment_id:02d}_gradient-maps.eps\"), bbox_inches=\"tight\", dpi=500)\n",
    "            print(f\"\\includegraphics[scale=1]{{{segment_size:02d}-{segment_id:02d}_gradient-maps.eps}}\\n\")\n",
    "            plt.close()\n",
    "            plt.clf()\n",
    "        else:\n",
    "            row += 1\n",
    "        # suplabel = fig.supylabel(f\"Segmt. Sol. - ID: {segment_size:02d} - {segment_id:02d}\", fontsize=10)"
   ]
  },
  {
   "cell_type": "code",
   "execution_count": null,
   "metadata": {},
   "outputs": [],
   "source": [
    "with open(op.join(percent_grad_seg_path, \"pct_results.pkl\"), \"rb\") as results_file:\n",
    "    pct_dict = pickle.load(results_file)\n",
    "with open(op.join(kmeans_grad_seg_path, \"kmeans_results.pkl\"), \"rb\") as results_file:\n",
    "    kmeans_dict = pickle.load(results_file)\n",
    "with open(op.join(kde_grad_seg_path, \"kde_results.pkl\"), \"rb\") as results_file:\n",
    "    kde_dict = pickle.load(results_file)"
   ]
  },
  {
   "cell_type": "code",
   "execution_count": null,
   "metadata": {},
   "outputs": [],
   "source": [
    "import numpy as np\n",
    "import matplotlib.pyplot as plt\n",
    "\n",
    "n_segments = 30\n",
    "min_n_segments = 3\n",
    "colors = [\"#05BFDB\", \"#088395\", \"#0A4D68\"]\n",
    "\n",
    "boundaries = []\n",
    "for seg_i, n_segment in enumerate(range(min_n_segments, n_segments + min_n_segments)):\n",
    "    \n",
    "    fig, ax = plt.subplots()\n",
    "    fig.set_size_inches(10, 2)\n",
    "    \n",
    "    yticks = [0.5]\n",
    "    for dict_i, results_dict in enumerate([kde_dict, kmeans_dict, pct_dict]):\n",
    "        bound_arr = results_dict[\"boundaries\"][seg_i]\n",
    "        peaks_arr = results_dict[\"peaks\"][seg_i]\n",
    "\n",
    "        x = []\n",
    "        y = []\n",
    "        x_err_i = []\n",
    "        x_err_j = []\n",
    "        for i in range(n_segment):\n",
    "            bound_i, bound_j = bound_arr[i], bound_arr[i+1]\n",
    "            peak = peaks_arr[i]\n",
    "            x.append(peak)\n",
    "            y.append(dict_i + 1)\n",
    "            x_err_i.append(abs(peak - bound_i))\n",
    "            x_err_j.append(abs(peak - bound_j))\n",
    "    \n",
    "        x_err = [x_err_i, x_err_j]\n",
    "        (_, caps, _) = ax.errorbar(\n",
    "            x, \n",
    "            y, \n",
    "            xerr=x_err, \n",
    "            fmt='o', \n",
    "            capsize=15, \n",
    "            elinewidth=3, \n",
    "            ecolor=colors[dict_i],\n",
    "            markerfacecolor=\"r\",\n",
    "            markeredgecolor=\"r\",\n",
    "        )\n",
    "\n",
    "        for cap in caps:\n",
    "            cap.set_markeredgewidth(3)\n",
    "\n",
    "        yticks.append(dict_i + 1)\n",
    "    yticks.append(dict_i + 1.5)\n",
    "\n",
    "    plt.yticks(yticks)\n",
    "    ax.axis('off')\n",
    "    fig.tight_layout()\n",
    "    plt.savefig(op.join(\"../figures/Fig/segmentation\", f\"bound_{n_segment:02d}.eps\"), bbox_inches=\"tight\")\n",
    "    \n",
    "    plt.show()"
   ]
  },
  {
   "cell_type": "code",
   "execution_count": null,
   "metadata": {},
   "outputs": [],
   "source": []
  }
 ],
 "metadata": {
  "kernelspec": {
   "display_name": "Python 3.9.12 ('gradec_env')",
   "language": "python",
   "name": "python3"
  },
  "language_info": {
   "codemirror_mode": {
    "name": "ipython",
    "version": 3
   },
   "file_extension": ".py",
   "mimetype": "text/x-python",
   "name": "python",
   "nbconvert_exporter": "python",
   "pygments_lexer": "ipython3",
   "version": "3.9.16"
  },
  "orig_nbformat": 4,
  "vscode": {
   "interpreter": {
    "hash": "32eae8b81dca7564140c4bb02978cc1f5cb3ca50d75c604cb4f67ffb4db99fb5"
   }
  }
 },
 "nbformat": 4,
 "nbformat_minor": 2
}
