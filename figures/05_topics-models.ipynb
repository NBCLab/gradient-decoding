{
 "cells": [
  {
   "cell_type": "code",
   "execution_count": null,
   "metadata": {},
   "outputs": [],
   "source": [
    "import os.path as op\n",
    "\n",
    "from nilearn.plotting.cm import _cmap_d as nilearn_cmaps\n",
    "from topics_models import load_files, model_figures"
   ]
  },
  {
   "cell_type": "code",
   "execution_count": null,
   "metadata": {},
   "outputs": [],
   "source": [
    "project_dir = op.abspath(\"../\")\n",
    "data_dir = op.join(project_dir, \"data\")\n",
    "DPI = 300\n",
    "\n",
    "lda_cmap = nilearn_cmaps[\"cold_hot\"]\n",
    "gclda_cmap = \"afmhot\""
   ]
  },
  {
   "attachments": {},
   "cell_type": "markdown",
   "metadata": {},
   "source": [
    "# Neurosynth"
   ]
  },
  {
   "attachments": {},
   "cell_type": "markdown",
   "metadata": {},
   "source": [
    "## LDA model"
   ]
  },
  {
   "cell_type": "code",
   "execution_count": null,
   "metadata": {},
   "outputs": [],
   "source": [
    "(\n",
    "    lda_ns_model, \n",
    "    lda_ns_decoder, \n",
    "    lda_ns_dset, \n",
    "    lda_ns_class, \n",
    "    lda_ns_maps_fslr, \n",
    "    lda_ns_output_dir,\n",
    ") = load_files(\"neurosynth\",  \"lda\", project_dir)"
   ]
  },
  {
   "cell_type": "code",
   "execution_count": null,
   "metadata": {},
   "outputs": [],
   "source": [
    "model_figures(\n",
    "    data_dir,\n",
    "    lda_ns_model,\n",
    "    lda_ns_maps_fslr,\n",
    "    lda_ns_class,\n",
    "    lda_ns_output_dir,\n",
    "    decoder=lda_ns_decoder,\n",
    "    dset=lda_ns_dset,\n",
    "    cmap=lda_cmap,\n",
    "    dpi=DPI,\n",
    "    save_=False,\n",
    ")"
   ]
  },
  {
   "attachments": {},
   "cell_type": "markdown",
   "metadata": {},
   "source": [
    "## GCLDA model"
   ]
  },
  {
   "cell_type": "code",
   "execution_count": null,
   "metadata": {},
   "outputs": [],
   "source": [
    "(\n",
    "    gclda_ns_model, \n",
    "    gclda_ns_decoder, \n",
    "    gclda_ns_dset, \n",
    "    gclda_ns_class, \n",
    "    gclda_ns_maps_fslr, \n",
    "    gclda_ns_output_dir,\n",
    ") = load_files(\"neurosynth\",  \"gclda\", project_dir)"
   ]
  },
  {
   "cell_type": "code",
   "execution_count": null,
   "metadata": {},
   "outputs": [],
   "source": [
    "model_figures(\n",
    "    data_dir,\n",
    "    gclda_ns_model,\n",
    "    gclda_ns_maps_fslr,\n",
    "    gclda_ns_class,\n",
    "    gclda_ns_output_dir,\n",
    "    decoder=gclda_ns_decoder,\n",
    "    dset=gclda_ns_dset,\n",
    "    cmap=gclda_cmap,\n",
    "    dpi=DPI,\n",
    "    save_=False,\n",
    ")"
   ]
  },
  {
   "attachments": {},
   "cell_type": "markdown",
   "metadata": {},
   "source": [
    "# NeuroQuery"
   ]
  },
  {
   "attachments": {},
   "cell_type": "markdown",
   "metadata": {},
   "source": [
    "## LDA model"
   ]
  },
  {
   "cell_type": "code",
   "execution_count": null,
   "metadata": {},
   "outputs": [],
   "source": [
    "(\n",
    "    lda_nq_model, \n",
    "    lda_nq_decoder, \n",
    "    lda_nq_dset, \n",
    "    lda_nq_class, \n",
    "    lda_nq_maps_fslr, \n",
    "    lda_nq_output_dir,\n",
    ") = load_files(\"neuroquery\",  \"lda\", project_dir)"
   ]
  },
  {
   "cell_type": "code",
   "execution_count": null,
   "metadata": {},
   "outputs": [],
   "source": [
    "model_figures(\n",
    "    data_dir,\n",
    "    lda_nq_model,\n",
    "    lda_nq_maps_fslr,\n",
    "    lda_nq_class,\n",
    "    lda_nq_output_dir,\n",
    "    decoder=lda_nq_decoder,\n",
    "    dset=lda_nq_dset,\n",
    "    cmap=lda_cmap,\n",
    "    dpi=DPI,\n",
    "    save_=False,\n",
    ")"
   ]
  },
  {
   "attachments": {},
   "cell_type": "markdown",
   "metadata": {},
   "source": [
    "## GCLDA model"
   ]
  },
  {
   "cell_type": "code",
   "execution_count": null,
   "metadata": {},
   "outputs": [],
   "source": [
    "(\n",
    "    gclda_nq_model, \n",
    "    gclda_nq_decoder, \n",
    "    gclda_nq_dset, \n",
    "    gclda_nq_class, \n",
    "    gclda_nq_maps_fslr, \n",
    "    gclda_nq_output_dir,\n",
    ") = load_files(\"neuroquery\",  \"gclda\", project_dir)"
   ]
  },
  {
   "cell_type": "code",
   "execution_count": null,
   "metadata": {},
   "outputs": [],
   "source": [
    "model_figures(\n",
    "    data_dir,\n",
    "    gclda_nq_model,\n",
    "    gclda_nq_maps_fslr,\n",
    "    gclda_nq_class,\n",
    "    gclda_nq_output_dir,\n",
    "    decoder=gclda_nq_decoder,\n",
    "    dset=gclda_nq_dset,\n",
    "    cmap=gclda_cmap,\n",
    "    dpi=DPI,\n",
    "    save_=False,\n",
    ")"
   ]
  }
 ],
 "metadata": {
  "kernelspec": {
   "display_name": "Python 3.9.12 ('gradec_env')",
   "language": "python",
   "name": "python3"
  },
  "language_info": {
   "codemirror_mode": {
    "name": "ipython",
    "version": 3
   },
   "file_extension": ".py",
   "mimetype": "text/x-python",
   "name": "python",
   "nbconvert_exporter": "python",
   "pygments_lexer": "ipython3",
   "version": "3.9.16"
  },
  "orig_nbformat": 4,
  "vscode": {
   "interpreter": {
    "hash": "32eae8b81dca7564140c4bb02978cc1f5cb3ca50d75c604cb4f67ffb4db99fb5"
   }
  }
 },
 "nbformat": 4,
 "nbformat_minor": 2
}
