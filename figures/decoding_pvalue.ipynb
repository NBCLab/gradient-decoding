{
 "cells": [
  {
   "cell_type": "code",
   "execution_count": 1,
   "metadata": {},
   "outputs": [],
   "source": [
    "import os.path as op\n",
    "from glob import glob\n",
    "\n",
    "import numpy as np\n",
    "import pandas as pd\n",
    "import seaborn as sns\n",
    "import matplotlib.pyplot as plt"
   ]
  },
  {
   "cell_type": "code",
   "execution_count": 2,
   "metadata": {},
   "outputs": [],
   "source": [
    "result_dir = op.abspath(\"../results\")\n",
    "corr_dir = op.join(result_dir, \"gradient_decoding\", \"lda_neurosynth_KMeans_corr\")\n",
    "\n",
    "corr_lst = sorted(glob(op.join(corr_dir, \"*_corr.npy\")))\n",
    "null_lst = sorted(glob(op.join(corr_dir, \"*_null.npy\"))) "
   ]
  },
  {
   "cell_type": "code",
   "execution_count": 11,
   "metadata": {},
   "outputs": [],
   "source": [
    "corr_test = op.join(result_dir, \"gradient_decoding\", \"lda_neuroquery_metamaps.npy\")\n",
    "# null_arr = np.load(null_lst[0])"
   ]
  },
  {
   "cell_type": "code",
   "execution_count": 12,
   "metadata": {},
   "outputs": [],
   "source": [
    "null_mem = np.memmap(corr_test,dtype=\"float32\",mode=\"r\",shape=(200, 59412))"
   ]
  },
  {
   "cell_type": "code",
   "execution_count": 15,
   "metadata": {},
   "outputs": [
    {
     "data": {
      "text/plain": [
       "-1.194625"
      ]
     },
     "execution_count": 15,
     "metadata": {},
     "output_type": "execute_result"
    }
   ],
   "source": [
    "null_mem[0,0]"
   ]
  },
  {
   "cell_type": "code",
   "execution_count": 10,
   "metadata": {},
   "outputs": [
    {
     "name": "stdout",
     "output_type": "stream",
     "text": [
      "0.09534960947922819\n",
      "223668530.0\n"
     ]
    }
   ],
   "source": [
    "print(null_arr[0,0,0])\n",
    "print(null_mem[0,0,0])"
   ]
  },
  {
   "cell_type": "code",
   "execution_count": 44,
   "metadata": {},
   "outputs": [],
   "source": [
    "for corr_fn, null_fn in zip(corr_lst, null_lst):\n",
    "    corr_arr = np.load(corr_fn)\n",
    "    null_arr = np.load(null_fn)\n",
    "    n_seg, n_maps, n_perm = null_arr.shape\n",
    "\n",
    "    pval_arr = np.zeros_like(corr_arr)\n",
    "    for seg_i in range(n_seg):\n",
    "        for map_i in range(n_maps):\n",
    "            null_corr = null_arr[seg_i, map_i, :]\n",
    "            true_corr = corr_arr[seg_i, map_i]\n",
    "\n",
    "            if true_corr > 0:\n",
    "                summation = null_corr[null_corr > true_corr].sum()\n",
    "            else:\n",
    "                summation = null_corr[null_corr < true_corr].sum()\n",
    "\n",
    "            p_value = abs(summation/n_perm)\n",
    "            pval_arr[seg_i, map_i] = p_value\n"
   ]
  },
  {
   "cell_type": "code",
   "execution_count": 49,
   "metadata": {},
   "outputs": [
    {
     "data": {
      "text/plain": [
       "(2, 10, 200)"
      ]
     },
     "execution_count": 49,
     "metadata": {},
     "output_type": "execute_result"
    }
   ],
   "source": [
    "np.stack([pval_arr, pval_arr]).shape"
   ]
  },
  {
   "cell_type": "code",
   "execution_count": 46,
   "metadata": {},
   "outputs": [
    {
     "data": {
      "text/plain": [
       "array([[0.02142793, 0.04470562, 0.03809486, ..., 0.01065833, 0.03636944,\n",
       "        0.06337701],\n",
       "       [0.01752959, 0.02929129, 0.01585524, ..., 0.00272268, 0.03271352,\n",
       "        0.0371283 ],\n",
       "       [0.00329426, 0.00267543, 0.00922035, ..., 0.00028008, 0.00253554,\n",
       "        0.01495064],\n",
       "       ...,\n",
       "       [0.00276344, 0.00912266, 0.00685521, ..., 0.        , 0.00220743,\n",
       "        0.00047388],\n",
       "       [0.0064349 , 0.00656356, 0.00228763, ..., 0.        , 0.01246302,\n",
       "        0.01319604],\n",
       "       [0.00509446, 0.00105076, 0.01887368, ..., 0.00874859, 0.00343908,\n",
       "        0.01997828]])"
      ]
     },
     "execution_count": 46,
     "metadata": {},
     "output_type": "execute_result"
    }
   ],
   "source": [
    "pval_arr"
   ]
  },
  {
   "cell_type": "code",
   "execution_count": 38,
   "metadata": {},
   "outputs": [
    {
     "data": {
      "text/plain": [
       "0.024051102813599217"
      ]
     },
     "execution_count": 38,
     "metadata": {},
     "output_type": "execute_result"
    },
    {
     "data": {
      "image/png": "[encoded data removed]",
      "text/plain": [
       "<Figure size 500x500 with 1 Axes>"
      ]
     },
     "metadata": {},
     "output_type": "display_data"
    }
   ],
   "source": [
    "n_permutation = df_lst[0].shape[0]\n",
    "true_corr = true_corr_lst[0][0,0]\n",
    "sns.displot(df_lst[0], x=\"0_0\")\n",
    "plt.axvline(true_corr)\n",
    "\n",
    "\n",
    "if true_corr > 0:\n",
    "    summ = df_lst[0][\"0_0\"][df_lst[0][\"0_0\"] > true_corr].sum()\n",
    "else:\n",
    "    summ = df_lst[0][\"0_0\"][df_lst[0][\"0_0\"] < true_corr].sum()\n",
    "\n",
    "p_value = abs(summ/n_permutation)\n",
    "p_value"
   ]
  },
  {
   "cell_type": "code",
   "execution_count": null,
   "metadata": {},
   "outputs": [],
   "source": []
  }
 ],
 "metadata": {
  "kernelspec": {
   "display_name": "Python 3.9.12 ('gradec_env')",
   "language": "python",
   "name": "python3"
  },
  "language_info": {
   "codemirror_mode": {
    "name": "ipython",
    "version": 3
   },
   "file_extension": ".py",
   "mimetype": "text/x-python",
   "name": "python",
   "nbconvert_exporter": "python",
   "pygments_lexer": "ipython3",
   "version": "3.9.12"
  },
  "orig_nbformat": 4,
  "vscode": {
   "interpreter": {
    "hash": "32eae8b81dca7564140c4bb02978cc1f5cb3ca50d75c604cb4f67ffb4db99fb5"
   }
  }
 },
 "nbformat": 4,
 "nbformat_minor": 2
}
